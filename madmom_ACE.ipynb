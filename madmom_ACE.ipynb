{
  "nbformat": 4,
  "nbformat_minor": 0,
  "metadata": {
    "colab": {
      "provenance": []
    },
    "kernelspec": {
      "name": "python3",
      "display_name": "Python 3"
    },
    "language_info": {
      "name": "python"
    }
  },
  "cells": [
    {
      "cell_type": "markdown",
      "source": [
        "# 🎼 Audio Chord Estimation (ACE) with Madmom"
      ],
      "metadata": {
        "id": "ISHZtJd1ffdH"
      }
    },
    {
      "cell_type": "markdown",
      "source": [
        "Madmom is an audio signal processing library written in Python with a strong focus on music information retrieval (MIR) tasks.\n",
        "\n",
        "It includes pretrained models for chord estimation, among other things.\n",
        "The ACE models implemented in malmon were originally proposed in the [paper](https://archives.ismir.net/ismir2016/paper/000178.pdf):\n",
        "```\n",
        "Filip Korzeniowski and Gerhard Widmer, “Feature Learning for Chord Recognition: The Deep Chroma Extractor”, Proceedings of the 17th International Society for Music Information Retrieval Conference (ISMIR), 2016.\n",
        "```\n",
        "In this notebook, we show how to use Madmom to estimate the chords of the audio files in the dataset and how to evaluate the performance of the models implemented in the library.\n",
        "\n",
        "For more information about Madmom, please visit the [official website](https://madmom.readthedocs.io/en/v0.16.1/index.html)."
      ],
      "metadata": {
        "id": "s4DHyY3KfyMn"
      }
    },
    {
      "cell_type": "markdown",
      "source": [
        "## 🪛 Setup and installation\n",
        "\n",
        "Madmom has some compatibility issues, mainly related to the\n",
        "numpy/scipy version.\n",
        "This notebook is tested with python `3.10.12` and madmom `0.16.1`. If you have any issues,\n",
        "please make sure you have the correct version of madmom and numpy installed.\n",
        "\n",
        "Furthermore, in this notebook, a number of tricks are implemented in order to be able to use madmom in Python 3.10, i.e. the version of Python currently distributed in Google Colab.  "
      ],
      "metadata": {
        "id": "dH1AaovHf4rH"
      }
    },
    {
      "cell_type": "code",
      "source": [
        "# python version check\n",
        "!python --version"
      ],
      "metadata": {
        "colab": {
          "base_uri": "https://localhost:8080/"
        },
        "id": "Ba91i0SOZzxp",
        "outputId": "0552fcf0-7107-497e-825e-156c5653a066"
      },
      "execution_count": 10,
      "outputs": [
        {
          "output_type": "stream",
          "name": "stdout",
          "text": [
            "Python 3.10.12\n"
          ]
        }
      ]
    },
    {
      "cell_type": "markdown",
      "source": [
        "**!!!Session restart required after installing libraries!!!**\n",
        "\n",
        "Please click on `RESTART SESSION` once the installation process has finished in order to make numpy installation effective."
      ],
      "metadata": {
        "id": "NNZi2H82ezXE"
      }
    },
    {
      "cell_type": "code",
      "execution_count": 1,
      "metadata": {
        "colab": {
          "base_uri": "https://localhost:8080/"
        },
        "id": "4Ls7ihdpwC9M",
        "outputId": "7ee2e9ff-18ae-4bc5-bdc3-7acbf1287ce0"
      },
      "outputs": [
        {
          "output_type": "stream",
          "name": "stdout",
          "text": [
            "Requirement already satisfied: numpy==1.23.5 in /usr/local/lib/python3.10/dist-packages (1.23.5)\n",
            "Requirement already satisfied: madmom==0.16.1 in /usr/local/lib/python3.10/dist-packages (0.16.1)\n",
            "Requirement already satisfied: numpy>=1.13.4 in /usr/local/lib/python3.10/dist-packages (from madmom==0.16.1) (1.23.5)\n",
            "Requirement already satisfied: scipy>=0.16 in /usr/local/lib/python3.10/dist-packages (from madmom==0.16.1) (1.11.4)\n",
            "Requirement already satisfied: cython>=0.25 in /usr/local/lib/python3.10/dist-packages (from madmom==0.16.1) (3.0.10)\n",
            "Requirement already satisfied: mido>=1.2.8 in /usr/local/lib/python3.10/dist-packages (from madmom==0.16.1) (1.3.2)\n",
            "Requirement already satisfied: packaging~=23.1 in /usr/local/lib/python3.10/dist-packages (from mido>=1.2.8->madmom==0.16.1) (23.2)\n",
            "Requirement already satisfied: mir_eval in /usr/local/lib/python3.10/dist-packages (0.7)\n",
            "Requirement already satisfied: numpy>=1.7.0 in /usr/local/lib/python3.10/dist-packages (from mir_eval) (1.23.5)\n",
            "Requirement already satisfied: scipy>=1.0.0 in /usr/local/lib/python3.10/dist-packages (from mir_eval) (1.11.4)\n",
            "Requirement already satisfied: future in /usr/local/lib/python3.10/dist-packages (from mir_eval) (0.18.3)\n",
            "Requirement already satisfied: six in /usr/local/lib/python3.10/dist-packages (from mir_eval) (1.16.0)\n"
          ]
        }
      ],
      "source": [
        "# install libraries\n",
        "!pip install numpy==1.23.5\n",
        "!pip install madmom==0.16.1\n",
        "!pip install mir_eval"
      ]
    },
    {
      "cell_type": "code",
      "source": [
        "#replace some source code in order to make it usable in python 3.10\n",
        "!sed -i \"s/from collections import/from collections.abc import/\" /usr/local/lib/python3.10/dist-packages/madmom/processors.py"
      ],
      "metadata": {
        "id": "yWo38djDxnJc"
      },
      "execution_count": 2,
      "outputs": []
    },
    {
      "cell_type": "markdown",
      "source": [
        "## 💽 Load audio files\n",
        "The script loads any audio files uploaded in the main directory of Google Colab having the following extensions: `.wav`, `.mp3`, `.mp4`, `.flac`.\n",
        "\n",
        "If more audio files are uploaded, given the showcase purpose of this notebook, only one will be considered."
      ],
      "metadata": {
        "id": "gxDxxnHHfxRZ"
      }
    },
    {
      "cell_type": "code",
      "source": [
        "# imports\n",
        "import os"
      ],
      "metadata": {
        "id": "up12dLbohx2f"
      },
      "execution_count": 3,
      "outputs": []
    },
    {
      "cell_type": "code",
      "source": [
        "audio_extensions = [\".mp3\", \".mp4\" \".wav\", \".flac\"]\n",
        "audio_files = [file for file in os.listdir('./') if file.endswith(tuple(audio_extensions))]\n",
        "\n",
        "assert len(audio_files) > 0, \"No audio files uploaded in the main `content` folder.\"\n",
        "\n",
        "file_path = audio_files[0]\n",
        "f\"Processing audio file: {file_path}\""
      ],
      "metadata": {
        "colab": {
          "base_uri": "https://localhost:8080/",
          "height": 35
        },
        "id": "yk2YmIumgvmZ",
        "outputId": "c4d1fe68-bcb9-4c46-a602-002a8bc4bbfd"
      },
      "execution_count": 4,
      "outputs": [
        {
          "output_type": "execute_result",
          "data": {
            "text/plain": [
              "'Processing audio file: Chains of Tomorrow - Beat it - Michael Jackson.mp3'"
            ],
            "application/vnd.google.colaboratory.intrinsic+json": {
              "type": "string"
            }
          },
          "metadata": {},
          "execution_count": 4
        }
      ]
    },
    {
      "cell_type": "markdown",
      "source": [
        "## 1 Chord recognition from Deep Chroma Features\n",
        "\n",
        "Recognise major and minor chords from deep chroma vectors using a Conditional Random Field."
      ],
      "metadata": {
        "id": "cwc2u0lgfffV"
      }
    },
    {
      "cell_type": "code",
      "source": [
        "# imports\n",
        "from madmom.audio.chroma import DeepChromaProcessor  # type: ignore\n",
        "from madmom.features.chords import DeepChromaChordRecognitionProcessor  # type: ignore"
      ],
      "metadata": {
        "id": "640XWrz_wwZ1"
      },
      "execution_count": 5,
      "outputs": []
    },
    {
      "cell_type": "code",
      "source": [
        "# initialise the DeepChromaProcessor to extract the chroma vectors from audio\n",
        "dcp = DeepChromaProcessor()\n",
        "# create a DeepChromaChordRecognitionProcessor to decode a chord sequence from the extracted chromas\n",
        "decode = DeepChromaChordRecognitionProcessor()"
      ],
      "metadata": {
        "id": "fKTC9hPzypVG"
      },
      "execution_count": 6,
      "outputs": []
    },
    {
      "cell_type": "code",
      "source": [
        "# get chord predictions\n",
        "chroma = dcp(file_path)\n",
        "chords = decode(chroma)"
      ],
      "metadata": {
        "id": "0A5YcmmhbW-4"
      },
      "execution_count": 8,
      "outputs": []
    },
    {
      "cell_type": "markdown",
      "source": [
        "## 2 Chord recognition from learned features\n",
        "\n",
        "Recognise major and minor chords from learned features extracted by a convolutional neural network."
      ],
      "metadata": {
        "id": "E909ZH0nstLE"
      }
    },
    {
      "cell_type": "code",
      "source": [
        "from madmom.features.chords import CNNChordFeatureProcessor, CRFChordRecognitionProcessor"
      ],
      "metadata": {
        "id": "fjEkvF7DcCm3"
      },
      "execution_count": 56,
      "outputs": []
    },
    {
      "cell_type": "code",
      "source": [
        "featproc = CNNChordFeatureProcessor()\n",
        "crf_decode = CRFChordRecognitionProcessor()"
      ],
      "metadata": {
        "id": "7zg-puvpcApo"
      },
      "execution_count": 57,
      "outputs": []
    },
    {
      "cell_type": "code",
      "source": [
        "feats = featproc('Digital Dreaming - I Got You (I Feel Good) - James Brown.mp3')\n",
        "crf_decode(feats)"
      ],
      "metadata": {
        "colab": {
          "base_uri": "https://localhost:8080/"
        },
        "id": "8vwP2GGZcuWW",
        "outputId": "b8fe0232-f559-4887-e878-9e7a7009a538"
      },
      "execution_count": 58,
      "outputs": [
        {
          "output_type": "execute_result",
          "data": {
            "text/plain": [
              "array([(  0. ,   0.3, 'N'), (  0.3,   2.8, 'D#:maj'),\n",
              "       (  2.8,   4.9, 'D:maj'), (  4.9,   7.9, 'G:min'),\n",
              "       (  7.9,   9.1, 'C:maj'), (  9.1,   9.7, 'G:min'),\n",
              "       (  9.7,  10.5, 'C:min'), ( 10.5,  13.3, 'D#:maj'),\n",
              "       ( 13.3,  16.5, 'G:min'), ( 16.5,  17.2, 'G:maj'),\n",
              "       ( 17.2,  18. , 'G:min'), ( 18. ,  19. , 'C:min'),\n",
              "       ( 19. ,  20.4, 'G:min'), ( 20.4,  23. , 'D#:maj'),\n",
              "       ( 23. ,  24.6, 'D:maj'), ( 24.6,  25.4, 'F:maj'),\n",
              "       ( 25.4,  26.6, 'A#:maj'), ( 26.6,  28.1, 'G:min'),\n",
              "       ( 28.1,  30.4, 'D:maj'), ( 30.4,  33.1, 'G:min'),\n",
              "       ( 33.1,  35.5, 'C:maj'), ( 35.5,  38.3, 'D#:maj'),\n",
              "       ( 38.3,  40.2, 'D:maj'), ( 40.2,  42.1, 'G:min'),\n",
              "       ( 42.1,  44.6, 'A#:maj'), ( 44.6,  44.9, 'C:min'),\n",
              "       ( 44.9,  47.1, 'G:min'), ( 47.1,  49.1, 'A#:maj'),\n",
              "       ( 49.1,  50.3, 'C:maj'), ( 50.3,  52.4, 'G:min'),\n",
              "       ( 52.4,  53.5, 'A#:maj'), ( 53.5,  54.5, 'D#:maj'),\n",
              "       ( 54.5,  55.7, 'F:maj'), ( 55.7,  58.4, 'D#:maj'),\n",
              "       ( 58.4,  60.4, 'D:maj'), ( 60.4,  62.3, 'A#:maj'),\n",
              "       ( 62.3,  63.4, 'G:min'), ( 63.4,  64.3, 'D:maj'),\n",
              "       ( 64.3,  65. , 'D:min'), ( 65. ,  67.1, 'G:min'),\n",
              "       ( 67.1,  67.7, 'D:min'), ( 67.7,  68.5, 'G:min'),\n",
              "       ( 68.5,  69.1, 'C:maj'), ( 69.1,  70. , 'D:min'),\n",
              "       ( 70. ,  70.7, 'G:min'), ( 70.7,  71. , 'C:maj'),\n",
              "       ( 71. ,  72.2, 'D#:maj'), ( 72.2,  73.5, 'G:min'),\n",
              "       ( 73.5,  75.5, 'D:maj'), ( 75.5,  76.2, 'N'),\n",
              "       ( 76.2,  77. , 'D#:maj'), ( 77. ,  78. , 'A#:maj'),\n",
              "       ( 78. ,  78.9, 'D#:maj'), ( 78.9,  81.1, 'D:maj'),\n",
              "       ( 81.1,  83.8, 'G:min'), ( 83.8,  85. , 'C:maj'),\n",
              "       ( 85. ,  86.2, 'A#:maj'), ( 86.2,  88.7, 'D#:maj'),\n",
              "       ( 88.7,  90.8, 'D:maj'), ( 90.8,  92.6, 'G:min'),\n",
              "       ( 92.6,  95.7, 'A#:maj'), ( 95.7,  96.3, 'D:min'),\n",
              "       ( 96.3,  97.6, 'G:min'), ( 97.6,  99.5, 'A#:maj'),\n",
              "       ( 99.5, 100.6, 'C:maj'), (100.6, 101.4, 'D:min'),\n",
              "       (101.4, 103.2, 'G:min'), (103.2, 106.4, 'A#:maj'),\n",
              "       (106.4, 107.3, 'D#:maj'), (107.3, 108.4, 'A#:maj'),\n",
              "       (108.4, 108.9, 'D#:maj'), (108.9, 110.1, 'D:maj'),\n",
              "       (110.1, 110.7, 'C:maj'), (110.7, 113.9, 'G:min'),\n",
              "       (113.9, 115. , 'C:maj'), (115. , 115.6, 'F:min'),\n",
              "       (115.6, 116.3, 'C:maj'), (116.3, 117.9, 'D#:maj'),\n",
              "       (117.9, 119. , 'A#:maj'), (119. , 120.2, 'D:maj'),\n",
              "       (120.2, 121.2, 'D:min'), (121.2, 124.3, 'G:min'),\n",
              "       (124.3, 125.9, 'C:min'), (125.9, 128. , 'G:min'),\n",
              "       (128. , 131.1, 'A#:maj'), (131.1, 132.9, 'G:min'),\n",
              "       (132.9, 135.1, 'A#:maj'), (135.1, 136.2, 'C:maj'),\n",
              "       (136.2, 136.6, 'D:min'), (136.6, 138.8, 'G:min'),\n",
              "       (138.8, 140.5, 'F:maj'), (140.5, 141.8, 'A#:maj'),\n",
              "       (141.8, 144.3, 'D#:maj'), (144.3, 145.9, 'D:maj'),\n",
              "       (145.9, 146.4, 'D:min'), (146.4, 149.4, 'G:min'),\n",
              "       (149.4, 150.3, 'C:maj'), (150.3, 151.7, 'G:min'),\n",
              "       (151.7, 154.4, 'D#:maj'), (154.4, 156.4, 'D:maj'),\n",
              "       (156.4, 161.8, 'G:min'), (161.8, 166. , 'N')],\n",
              "      dtype=[('start', '<f8'), ('end', '<f8'), ('label', 'O')])"
            ]
          },
          "metadata": {},
          "execution_count": 58
        }
      ]
    },
    {
      "cell_type": "code",
      "source": [
        "starts = [start for (start, end, chord) in chords]\n",
        "durations = [end - start for (start, end, chord) in chords]\n",
        "chord_list = [chord for (start, end, chord) in chords]"
      ],
      "metadata": {
        "id": "i1gHCwcWZn5G"
      },
      "execution_count": 20,
      "outputs": []
    },
    {
      "cell_type": "code",
      "source": [
        "# Convert to json"
      ],
      "metadata": {
        "id": "j5jspLJ7vWrW"
      },
      "execution_count": 16,
      "outputs": []
    },
    {
      "cell_type": "code",
      "source": [
        "import json"
      ],
      "metadata": {
        "id": "K_bDaudmZcGe"
      },
      "execution_count": 17,
      "outputs": []
    },
    {
      "cell_type": "code",
      "source": [
        "json.dumps(starts)"
      ],
      "metadata": {
        "id": "w1mraQjVZceC",
        "outputId": "20c64220-ec49-44fd-8715-10c4bedf2637",
        "colab": {
          "base_uri": "https://localhost:8080/",
          "height": 120
        }
      },
      "execution_count": 18,
      "outputs": [
        {
          "output_type": "execute_result",
          "data": {
            "text/plain": [
              "'[0.0, 1.6, 2.6, 3.3000000000000003, 5.300000000000001, 6.6000000000000005, 8.6, 9.3, 10.200000000000001, 12.0, 12.700000000000001, 13.600000000000001, 15.5, 16.2, 17.0, 19.0, 19.700000000000003, 20.700000000000003, 22.3, 23.0, 24.200000000000003, 25.8, 26.400000000000002, 27.400000000000002, 29.0, 30.0, 32.7, 34.2, 35.800000000000004, 36.7, 37.5, 39.5, 40.900000000000006, 42.1, 43.300000000000004, 44.2, 46.2, 47.7, 49.7, 50.5, 51.6, 53.2, 53.900000000000006, 55.1, 56.6, 57.300000000000004, 58.300000000000004, 60.0, 60.800000000000004, 61.5, 63.400000000000006, 64.10000000000001, 65.0, 66.8, 67.5, 68.4, 70.10000000000001, 71.4, 73.60000000000001, 74.4, 75.3, 77.10000000000001, 78.7, 80.30000000000001, 82.10000000000001, 83.80000000000001, 85.5, 87.30000000000001, 88.10000000000001, 88.9, 90.80000000000001, 92.4, 93.5, 94.30000000000001, 95.80000000000001, 98.10000000000001, 101.2, 101.80000000000001, 102.60000000000001, 104.4, 106.2, 108.0, 108.7, 109.5, 111.2, 113.0, 122.0, 122.30000000000001, 123.4, 125.10000000000001, 125.80000000000001, 126.9, 128.70000000000002, 129.20000000000002, 130.20000000000002, 135.4, 136.1, 137.1, 138.9, 139.70000000000002, 140.5, 142.3, 143.1, 143.9, 145.70000000000002, 146.5, 147.20000000000002, 149.1, 150.70000000000002, 152.5, 153.3, 154.10000000000002, 155.8, 157.5, 158.70000000000002, 159.60000000000002, 160.9, 163.10000000000002, 164.5, 166.20000000000002, 167.0, 167.70000000000002, 169.70000000000002, 171.20000000000002, 172.5, 173.4, 174.60000000000002, 176.4, 178.0, 180.0, 180.8, 181.5, 183.5, 184.20000000000002, 185.0, 186.8, 187.9, 188.60000000000002, 190.3, 191.70000000000002, 193.5, 194.3, 197.0, 198.0, 199.20000000000002, 201.10000000000002, 202.5, 203.9, 204.60000000000002, 207.10000000000002, 208.8, 210.8, 211.60000000000002, 212.5, 214.10000000000002, 215.8, 217.0, 217.70000000000002, 219.3, 221.0, 222.70000000000002, 224.5, 225.20000000000002, 226.10000000000002, 227.8, 229.5, 230.60000000000002, 231.60000000000002, 233.0, 234.8, 235.3, 238.20000000000002]'"
            ],
            "application/vnd.google.colaboratory.intrinsic+json": {
              "type": "string"
            }
          },
          "metadata": {},
          "execution_count": 18
        }
      ]
    },
    {
      "cell_type": "code",
      "source": [
        "json.dumps(durations)"
      ],
      "metadata": {
        "id": "1hxzYCxrajMq",
        "outputId": "41b57182-3e96-4596-8d37-0d4887583a4f",
        "colab": {
          "base_uri": "https://localhost:8080/",
          "height": 120
        }
      },
      "execution_count": 19,
      "outputs": [
        {
          "output_type": "execute_result",
          "data": {
            "text/plain": [
              "'[1.6, 1.0, 0.7000000000000002, 2.0000000000000004, 1.2999999999999998, 1.9999999999999991, 0.7000000000000011, 0.9000000000000004, 1.799999999999999, 0.7000000000000011, 0.9000000000000004, 1.8999999999999986, 0.6999999999999993, 0.8000000000000007, 2.0, 0.7000000000000028, 1.0, 1.5999999999999979, 0.6999999999999993, 1.2000000000000028, 1.5999999999999979, 0.6000000000000014, 1.0, 1.5999999999999979, 1.0, 2.700000000000003, 1.5, 1.6000000000000014, 0.8999999999999986, 0.7999999999999972, 2.0, 1.4000000000000057, 1.1999999999999957, 1.2000000000000028, 0.8999999999999986, 2.0, 1.5, 2.0, 0.7999999999999972, 1.1000000000000014, 1.6000000000000014, 0.7000000000000028, 1.1999999999999957, 1.5, 0.7000000000000028, 1.0, 1.6999999999999957, 0.8000000000000043, 0.6999999999999957, 1.9000000000000057, 0.7000000000000028, 0.8999999999999915, 1.7999999999999972, 0.7000000000000028, 0.9000000000000057, 1.7000000000000028, 1.2999999999999972, 2.200000000000003, 0.7999999999999972, 0.8999999999999915, 1.8000000000000114, 1.5999999999999943, 1.6000000000000085, 1.7999999999999972, 1.7000000000000028, 1.6999999999999886, 1.8000000000000114, 0.7999999999999972, 0.7999999999999972, 1.9000000000000057, 1.5999999999999943, 1.0999999999999943, 0.8000000000000114, 1.5, 2.299999999999997, 3.0999999999999943, 0.6000000000000085, 0.7999999999999972, 1.7999999999999972, 1.7999999999999972, 1.7999999999999972, 0.7000000000000028, 0.7999999999999972, 1.7000000000000028, 1.7999999999999972, 9.0, 0.30000000000001137, 1.0999999999999943, 1.7000000000000028, 0.7000000000000028, 1.0999999999999943, 1.8000000000000114, 0.5, 1.0, 5.199999999999989, 0.6999999999999886, 1.0, 1.8000000000000114, 0.8000000000000114, 0.799999999999983, 1.8000000000000114, 0.799999999999983, 0.8000000000000114, 1.8000000000000114, 0.799999999999983, 0.700000000000017, 1.8999999999999773, 1.6000000000000227, 1.799999999999983, 0.8000000000000114, 0.8000000000000114, 1.6999999999999886, 1.6999999999999886, 1.200000000000017, 0.9000000000000057, 1.299999999999983, 2.200000000000017, 1.3999999999999773, 1.700000000000017, 0.799999999999983, 0.700000000000017, 2.0, 1.5, 1.299999999999983, 0.9000000000000057, 1.200000000000017, 1.799999999999983, 1.5999999999999943, 2.0, 0.8000000000000114, 0.6999999999999886, 2.0, 0.700000000000017, 0.799999999999983, 1.8000000000000114, 1.0999999999999943, 0.700000000000017, 1.6999999999999886, 1.4000000000000057, 1.799999999999983, 0.8000000000000114, 2.6999999999999886, 1.0, 1.200000000000017, 1.9000000000000057, 1.3999999999999773, 1.4000000000000057, 0.700000000000017, 2.5, 1.6999999999999886, 2.0, 0.8000000000000114, 0.8999999999999773, 1.6000000000000227, 1.6999999999999886, 1.1999999999999886, 0.700000000000017, 1.5999999999999943, 1.6999999999999886, 1.700000000000017, 1.799999999999983, 0.700000000000017, 0.9000000000000057, 1.6999999999999886, 1.6999999999999886, 1.1000000000000227, 1.0, 1.3999999999999773, 1.8000000000000114, 0.5, 2.9000000000000057, 0.8999999999999773]'"
            ],
            "application/vnd.google.colaboratory.intrinsic+json": {
              "type": "string"
            }
          },
          "metadata": {},
          "execution_count": 19
        }
      ]
    },
    {
      "cell_type": "code",
      "source": [
        "json.dumps(chord_list)"
      ],
      "metadata": {
        "id": "hUsgRB26akgf",
        "outputId": "d00f0f2c-d5bc-4c3d-bab8-69028798d4af",
        "colab": {
          "base_uri": "https://localhost:8080/",
          "height": 120
        }
      },
      "execution_count": 14,
      "outputs": [
        {
          "output_type": "execute_result",
          "data": {
            "text/plain": [
              "'[\"C:maj\", \"A#:maj\", \"D#:maj\", \"C:maj\", \"A#:maj\", \"C:maj\", \"A#:maj\", \"D#:maj\", \"C:maj\", \"A#:maj\", \"D#:maj\", \"C:maj\", \"A#:maj\", \"D#:maj\", \"C:maj\", \"A#:maj\", \"C:min\", \"C:maj\", \"A#:maj\", \"C:min\", \"C:maj\", \"A#:maj\", \"C:min\", \"C:maj\", \"A#:maj\", \"G#:maj\", \"G:maj\", \"C:min\", \"A#:maj\", \"D#:maj\", \"G#:maj\", \"G:maj\", \"C:maj\", \"C:min\", \"D#:maj\", \"G#:maj\", \"A#:maj\", \"C:maj\", \"A#:maj\", \"C:min\", \"C:maj\", \"A#:maj\", \"C:min\", \"C:maj\", \"A#:maj\", \"C:min\", \"C:maj\", \"A#:maj\", \"D#:maj\", \"C:maj\", \"A#:maj\", \"D#:maj\", \"C:maj\", \"A#:maj\", \"D#:maj\", \"G#:maj\", \"A#:maj\", \"C:maj\", \"A#:maj\", \"D#:maj\", \"G#:maj\", \"G:maj\", \"C:maj\", \"D#:maj\", \"G#:maj\", \"A#:maj\", \"C:maj\", \"A#:maj\", \"D#:maj\", \"G#:maj\", \"G:maj\", \"C:maj\", \"C:min\", \"D#:maj\", \"G#:maj\", \"C:maj\", \"A#:maj\", \"D#:maj\", \"G#:maj\", \"G:maj\", \"C:maj\", \"A#:maj\", \"D#:maj\", \"G#:maj\", \"A#:maj\", \"C:maj\", \"A#:maj\", \"D#:maj\", \"C:maj\", \"A#:maj\", \"C:min\", \"C:maj\", \"A#:maj\", \"D#:maj\", \"C:maj\", \"A#:maj\", \"D#:maj\", \"C:maj\", \"A#:maj\", \"D#:maj\", \"C:maj\", \"A#:maj\", \"D#:maj\", \"C:maj\", \"A#:maj\", \"D#:maj\", \"G#:maj\", \"G:min\", \"C:min\", \"A#:maj\", \"D#:maj\", \"G#:maj\", \"G:maj\", \"C:maj\", \"C:min\", \"D#:maj\", \"G#:maj\", \"G:maj\", \"C:min\", \"A#:maj\", \"D#:maj\", \"G#:maj\", \"G:maj\", \"C:maj\", \"C:min\", \"D#:maj\", \"G#:maj\", \"A#:maj\", \"C:maj\", \"A#:maj\", \"D#:maj\", \"C:maj\", \"A#:maj\", \"D#:maj\", \"C:maj\", \"A#:maj\", \"C:min\", \"C:maj\", \"A#:maj\", \"C:maj\", \"A#:maj\", \"C:min\", \"A#:maj\", \"C:min\", \"C:maj\", \"C:min\", \"C:maj\", \"A#:maj\", \"C:min\", \"A#:maj\", \"C:maj\", \"A#:maj\", \"D#:maj\", \"G#:maj\", \"G:maj\", \"C:maj\", \"C:min\", \"D#:maj\", \"G#:maj\", \"A#:maj\", \"C:maj\", \"A#:maj\", \"D#:maj\", \"G#:maj\", \"G:maj\", \"C:maj\", \"C:min\", \"D#:maj\", \"G#:maj\", \"A#:maj\", \"C:maj\", \"A#:maj\"]'"
            ],
            "application/vnd.google.colaboratory.intrinsic+json": {
              "type": "string"
            }
          },
          "metadata": {},
          "execution_count": 14
        }
      ]
    },
    {
      "cell_type": "code",
      "source": [],
      "metadata": {
        "id": "CaRjAKEQa30p"
      },
      "execution_count": null,
      "outputs": []
    }
  ]
}